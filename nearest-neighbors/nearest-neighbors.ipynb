{
 "metadata": {
  "name": "nearest-neighbors"
 },
 "nbformat": 3,
 "nbformat_minor": 0,
 "worksheets": [
  {
   "cells": [
    {
     "cell_type": "markdown",
     "metadata": {},
     "source": [
      "# NEAREST NEIGHBORS"
     ]
    },
    {
     "cell_type": "markdown",
     "metadata": {},
     "source": [
      "# Q: Who in the audience has an Apple laptop?\n",
      "\n",
      "(raise your hand)"
     ]
    },
    {
     "cell_type": "markdown",
     "metadata": {},
     "source": [
      "# Q: Who in the audience had an Apple laptop 5 years ago? 10 years ago?"
     ]
    },
    {
     "cell_type": "markdown",
     "metadata": {},
     "source": [
      "Ok, that looks like this..."
     ]
    },
    {
     "cell_type": "code",
     "collapsed": false,
     "input": [
      "import pandas as pd\n",
      "import numpy as np\n",
      "d = {'count': sorted(np.floor(np.random.lognormal(2, 1.5, 12))),\n",
      "     'year': range(2001, 2013)}\n",
      "ownership = pd.DataFrame(d)\n",
      "scatter(ownership['year'], ownership['count'])"
     ],
     "language": "python",
     "metadata": {},
     "outputs": [
      {
       "output_type": "pyout",
       "prompt_number": 261,
       "text": [
        "<matplotlib.collections.PathCollection object at 0x10f7f3250>"
       ]
      },
      {
       "output_type": "display_data",
       "png": "[encoded data removed]"
      }
     ],
     "prompt_number": 261
    },
    {
     "cell_type": "markdown",
     "metadata": {},
     "source": [
      "# Let's try a linear regression"
     ]
    },
    {
     "cell_type": "code",
     "collapsed": false,
     "input": [
      "import statsmodels.api as sm\n",
      "model = sm.OLS(ownership['count'], sm.add_constant(ownership['year'], prepend=True))\n",
      "results = model.fit()\n",
      "print results.summary()"
     ],
     "language": "python",
     "metadata": {},
     "outputs": [
      {
       "output_type": "stream",
       "stream": "stdout",
       "text": [
        "                            OLS Regression Results                            \n",
        "==============================================================================\n",
        "Dep. Variable:                  count   R-squared:                       0.549\n",
        "Model:                            OLS   Adj. R-squared:                  0.504\n",
        "Method:                 Least Squares   F-statistic:                     12.18\n",
        "Date:                Sat, 27 Oct 2012   Prob (F-statistic):            0.00582\n",
        "Time:                        14:49:26   Log-Likelihood:                -44.872\n",
        "No. Observations:                  12   AIC:                             93.74\n",
        "Df Residuals:                      10   BIC:                             94.71\n",
        "Df Model:                           1                                         \n",
        "==============================================================================\n",
        "                 coef    std err          t      P>|t|      [95.0% Conf. Int.]\n",
        "------------------------------------------------------------------------------\n",
        "const      -6520.0653   1871.165     -3.484      0.006     -1.07e+04 -2350.849\n",
        "year           3.2552      0.933      3.491      0.006         1.177     5.333\n",
        "==============================================================================\n",
        "Omnibus:                        0.733   Durbin-Watson:                   0.731\n",
        "Prob(Omnibus):                  0.693   Jarque-Bera (JB):                0.691\n",
        "Skew:                           0.400   Prob(JB):                        0.708\n",
        "Kurtosis:                       2.138   Cond. No.                     1.17e+06\n",
        "==============================================================================\n",
        "\n",
        "The condition number is large, 1.17e+06. This might indicate that there are\n",
        "strong multicollinearity or other numerical problems.\n"
       ]
      }
     ],
     "prompt_number": 262
    },
    {
     "cell_type": "markdown",
     "metadata": {},
     "source": [
      "## Statistical significance! But let's look a little closer..."
     ]
    },
    {
     "cell_type": "code",
     "collapsed": false,
     "input": [
      "plot(ownership['year'], results.fittedvalues, color='r')\n",
      "scatter(ownership['year'], ownership['count'])"
     ],
     "language": "python",
     "metadata": {},
     "outputs": [
      {
       "output_type": "pyout",
       "prompt_number": 263,
       "text": [
        "<matplotlib.collections.PathCollection object at 0x10f98bbd0>"
       ]
      },
      {
       "output_type": "display_data",
       "png": "[encoded data removed]"
      }
     ],
     "prompt_number": 263
    },
    {
     "cell_type": "markdown",
     "metadata": {},
     "source": [
      "# Nearest Neighbors"
     ]
    },
    {
     "cell_type": "code",
     "collapsed": false,
     "input": [
      "def distance(year1, year2):\n",
      "    return abs(year1 - year2)"
     ],
     "language": "python",
     "metadata": {},
     "outputs": [],
     "prompt_number": 264
    },
    {
     "cell_type": "code",
     "collapsed": false,
     "input": [
      "def nearest(year, neighbors, k = 1):\n",
      "    sortkey = lambda neighbor: distance(year, neighbor[1])\n",
      "    return sorted(neighbors, key = sortkey)[:k]"
     ],
     "language": "python",
     "metadata": {},
     "outputs": [],
     "prompt_number": 265
    },
    {
     "cell_type": "code",
     "collapsed": false,
     "input": [
      "def knn(to_predict, history, k=1):\n",
      "    total = 0.0\n",
      "    for neighbor in nearest(to_predict, history, k):\n",
      "        neighbor_year = neighbor[1]\n",
      "        neighbor_count = neighbor[0]\n",
      "        total += neighbor_count\n",
      "    return total / k"
     ],
     "language": "python",
     "metadata": {},
     "outputs": [],
     "prompt_number": 266
    },
    {
     "cell_type": "code",
     "collapsed": false,
     "input": [
      "scatter(ownership['year'], results.fittedvalues)"
     ],
     "language": "python",
     "metadata": {},
     "outputs": [
      {
       "output_type": "pyout",
       "prompt_number": 267,
       "text": [
        "<matplotlib.collections.PathCollection object at 0x10fc85610>"
       ]
      },
      {
       "output_type": "display_data",
       "png": "[encoded data removed]"
      }
     ],
     "prompt_number": 267
    },
    {
     "cell_type": "code",
     "collapsed": false,
     "input": [
      "ownership"
     ],
     "language": "python",
     "metadata": {},
     "outputs": [
      {
       "html": [
        "<div style=\"max-height:1000px;max-width:1500px;overflow:auto;\">\n",
        "<table border=\"1\">\n",
        "  <thead>\n",
        "    <tr style=\"text-align: right;\">\n",
        "      <th></th>\n",
        "      <th>count</th>\n",
        "      <th>year</th>\n",
        "    </tr>\n",
        "  </thead>\n",
        "  <tbody>\n",
        "    <tr>\n",
        "      <td><strong>0</strong></td>\n",
        "      <td>  2</td>\n",
        "      <td> 2001</td>\n",
        "    </tr>\n",
        "    <tr>\n",
        "      <td><strong>1</strong></td>\n",
        "      <td>  2</td>\n",
        "      <td> 2002</td>\n",
        "    </tr>\n",
        "    <tr>\n",
        "      <td><strong>2</strong></td>\n",
        "      <td>  3</td>\n",
        "      <td> 2003</td>\n",
        "    </tr>\n",
        "    <tr>\n",
        "      <td><strong>3</strong></td>\n",
        "      <td>  4</td>\n",
        "      <td> 2004</td>\n",
        "    </tr>\n",
        "    <tr>\n",
        "      <td><strong>4</strong></td>\n",
        "      <td>  5</td>\n",
        "      <td> 2005</td>\n",
        "    </tr>\n",
        "    <tr>\n",
        "      <td><strong>5</strong></td>\n",
        "      <td>  5</td>\n",
        "      <td> 2006</td>\n",
        "    </tr>\n",
        "    <tr>\n",
        "      <td><strong>6</strong></td>\n",
        "      <td>  5</td>\n",
        "      <td> 2007</td>\n",
        "    </tr>\n",
        "    <tr>\n",
        "      <td><strong>7</strong></td>\n",
        "      <td>  7</td>\n",
        "      <td> 2008</td>\n",
        "    </tr>\n",
        "    <tr>\n",
        "      <td><strong>8</strong></td>\n",
        "      <td>  7</td>\n",
        "      <td> 2009</td>\n",
        "    </tr>\n",
        "    <tr>\n",
        "      <td><strong>9</strong></td>\n",
        "      <td>  9</td>\n",
        "      <td> 2010</td>\n",
        "    </tr>\n",
        "    <tr>\n",
        "      <td><strong>10</strong></td>\n",
        "      <td> 41</td>\n",
        "      <td> 2011</td>\n",
        "    </tr>\n",
        "    <tr>\n",
        "      <td><strong>11</strong></td>\n",
        "      <td> 49</td>\n",
        "      <td> 2012</td>\n",
        "    </tr>\n",
        "  </tbody>\n",
        "</table>\n",
        "</div>"
       ],
       "output_type": "pyout",
       "prompt_number": 268,
       "text": [
        "\n",
        "    count  year\n",
        "0       2  2001\n",
        "1       2  2002\n",
        "2       3  2003\n",
        "3       4  2004\n",
        "4       5  2005\n",
        "5       5  2006\n",
        "6       5  2007\n",
        "7       7  2008\n",
        "8       7  2009\n",
        "9       9  2010\n",
        "10     41  2011\n",
        "11     49  2012"
       ]
      }
     ],
     "prompt_number": 268
    },
    {
     "cell_type": "code",
     "collapsed": false,
     "input": [
      "plot(ownership['year'], [knn(year, ownership.values, 1) for year in ownership['year']], color='r')\n",
      "scatter(ownership['year'], ownership['count'])"
     ],
     "language": "python",
     "metadata": {},
     "outputs": [
      {
       "output_type": "pyout",
       "prompt_number": 281,
       "text": [
        "<matplotlib.collections.PathCollection object at 0x1104641d0>"
       ]
      },
      {
       "output_type": "display_data",
       "png": "[encoded data removed]"
      }
     ],
     "prompt_number": 281
    },
    {
     "cell_type": "markdown",
     "metadata": {},
     "source": [
      "# Q: How do the predictions of kNN change as k increases?\n",
      "\n",
      "Change the values of $k$ in the code above."
     ]
    },
    {
     "cell_type": "markdown",
     "metadata": {},
     "source": [
      "# Q: How can we make a linear model that looks like kNN?"
     ]
    },
    {
     "cell_type": "code",
     "collapsed": false,
     "input": [
      "for year in ownership['year']:\n",
      "    ownership[year] = ownership['year'] == year\n",
      "ownership[range(2001,2006)].head()"
     ],
     "language": "python",
     "metadata": {},
     "outputs": [
      {
       "html": [
        "<div style=\"max-height:1000px;max-width:1500px;overflow:auto;\">\n",
        "<table border=\"1\">\n",
        "  <thead>\n",
        "    <tr style=\"text-align: right;\">\n",
        "      <th></th>\n",
        "      <th>2001</th>\n",
        "      <th>2002</th>\n",
        "      <th>2003</th>\n",
        "      <th>2004</th>\n",
        "      <th>2005</th>\n",
        "    </tr>\n",
        "  </thead>\n",
        "  <tbody>\n",
        "    <tr>\n",
        "      <td><strong>0</strong></td>\n",
        "      <td>  True</td>\n",
        "      <td> False</td>\n",
        "      <td> False</td>\n",
        "      <td> False</td>\n",
        "      <td> False</td>\n",
        "    </tr>\n",
        "    <tr>\n",
        "      <td><strong>1</strong></td>\n",
        "      <td> False</td>\n",
        "      <td>  True</td>\n",
        "      <td> False</td>\n",
        "      <td> False</td>\n",
        "      <td> False</td>\n",
        "    </tr>\n",
        "    <tr>\n",
        "      <td><strong>2</strong></td>\n",
        "      <td> False</td>\n",
        "      <td> False</td>\n",
        "      <td>  True</td>\n",
        "      <td> False</td>\n",
        "      <td> False</td>\n",
        "    </tr>\n",
        "    <tr>\n",
        "      <td><strong>3</strong></td>\n",
        "      <td> False</td>\n",
        "      <td> False</td>\n",
        "      <td> False</td>\n",
        "      <td>  True</td>\n",
        "      <td> False</td>\n",
        "    </tr>\n",
        "    <tr>\n",
        "      <td><strong>4</strong></td>\n",
        "      <td> False</td>\n",
        "      <td> False</td>\n",
        "      <td> False</td>\n",
        "      <td> False</td>\n",
        "      <td>  True</td>\n",
        "    </tr>\n",
        "  </tbody>\n",
        "</table>\n",
        "</div>"
       ],
       "output_type": "pyout",
       "prompt_number": 272,
       "text": [
        "\n",
        "    2001   2002   2003   2004   2005\n",
        "0   True  False  False  False  False\n",
        "1  False   True  False  False  False\n",
        "2  False  False   True  False  False\n",
        "3  False  False  False   True  False\n",
        "4  False  False  False  False   True"
       ]
      }
     ],
     "prompt_number": 272
    },
    {
     "cell_type": "code",
     "collapsed": false,
     "input": [
      "model = sm.OLS(ownership['count'], ownership[['year'] + range(2003, 2013)])\n",
      "results = model.fit()\n",
      "print results.summary()"
     ],
     "language": "python",
     "metadata": {},
     "outputs": [
      {
       "output_type": "stream",
       "stream": "stdout",
       "text": [
        "                            OLS Regression Results                            \n",
        "==============================================================================\n",
        "Dep. Variable:                  count   R-squared:                       1.000\n",
        "Model:                            OLS   Adj. R-squared:                  1.000\n",
        "Method:                 Least Squares   F-statistic:                 5.526e+08\n",
        "Date:                Sat, 27 Oct 2012   Prob (F-statistic):           3.31e-05\n",
        "Time:                        14:50:27   Log-Likelihood:                 84.943\n",
        "No. Observations:                  12   AIC:                            -147.9\n",
        "Df Residuals:                       1   BIC:                            -142.6\n",
        "Df Model:                          10                                         \n",
        "==============================================================================\n",
        "                 coef    std err          t      P>|t|      [95.0% Conf. Int.]\n",
        "------------------------------------------------------------------------------\n",
        "year           0.0010    2.5e-07   4003.000      0.000         0.001     0.001\n",
        "2003           0.9985      0.001   1153.546      0.001         0.988     1.009\n",
        "2004           1.9975      0.001   2307.286      0.000         1.987     2.009\n",
        "2005           2.9965      0.001   3460.640      0.000         2.986     3.008\n",
        "2006           2.9955      0.001   3458.910      0.000         2.984     3.007\n",
        "2007           2.9945      0.001   3457.180      0.000         2.983     3.006\n",
        "2008           4.9935      0.001   5764.081      0.000         4.982     5.005\n",
        "2009           4.9925      0.001   5761.967      0.000         4.981     5.004\n",
        "2010           6.9915      0.001   8067.715      0.000         6.980     7.003\n",
        "2011          38.9905      0.001    4.5e+04      0.000        38.979    39.002\n",
        "2012          46.9895      0.001   5.42e+04      0.000        46.978    47.001\n",
        "==============================================================================\n",
        "Omnibus:                        7.419   Durbin-Watson:                   2.500\n",
        "Prob(Omnibus):                  0.024   Jarque-Bera (JB):                4.500\n",
        "Skew:                           0.002   Prob(JB):                        0.105\n",
        "Kurtosis:                       6.000   Cond. No.                     1.71e+04\n",
        "==============================================================================\n",
        "\n",
        "The condition number is large, 1.71e+04. This might indicate that there are\n",
        "strong multicollinearity or other numerical problems.\n"
       ]
      }
     ],
     "prompt_number": 273
    },
    {
     "cell_type": "code",
     "collapsed": false,
     "input": [
      "plot(ownership['year'], results.fittedvalues, color='r')\n",
      "scatter(ownership['year'], ownership['count'])"
     ],
     "language": "python",
     "metadata": {},
     "outputs": [
      {
       "output_type": "pyout",
       "prompt_number": 275,
       "text": [
        "<matplotlib.collections.PathCollection object at 0x10feae9d0>"
       ]
      },
      {
       "output_type": "display_data",
       "png": "[encoded data removed]"
      }
     ],
     "prompt_number": 275
    },
    {
     "cell_type": "code",
     "collapsed": false,
     "input": [],
     "language": "python",
     "metadata": {},
     "outputs": []
    }
   ],
   "metadata": {}
  }
 ]
}